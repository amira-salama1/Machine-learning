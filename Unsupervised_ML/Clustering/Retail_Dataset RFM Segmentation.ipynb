{
 "cells": [
  {
   "cell_type": "markdown",
   "metadata": {},
   "source": [
    "\n",
    "# Project: KPMG Dataset RFM Segmentation\n",
    "\n",
    "## Table of Contents\n",
    "<ul>\n",
    "<li><a href=\"#intro\">Introduction</a></li>\n",
    "<li><a href=\"#wrangling\">Data Wrangling</a></li>\n",
    "<li><a href=\"#eda\">Exploratory Data Analysis</a></li>\n",
    "<li><a href=\"#ml\">Clustering</a></li>\n",
    "<li><a href=\"#conclusions\">Conclusions</a></li>\n",
    "</ul>"
   ]
  },
  {
   "cell_type": "markdown",
   "metadata": {},
   "source": [
    "<a id='intro'></a>\n",
    "## Introduction\n",
    "\n",
    "> Abstract: This is a transnational data set which contains all the transactions occurring between 01/12/2010 and 09/12/2011 for a UK-based and registered non-store online retail.The company mainly sells unique all-occasion gifts. Many customers of the company are wholesalers.\n",
    "\n",
    ">Source:\n",
    "https://archive.ics.uci.edu/ml/datasets/online+retail#\n",
    "\n",
    ">Task :\n",
    " - Clustering Experiments on Big Transaction Data for Market Segmentation,\n"
   ]
  },
  {
   "cell_type": "code",
   "execution_count": 1,
   "metadata": {},
   "outputs": [],
   "source": [
    "# import all packages and set plots to be embedded inline\n",
    "import numpy as np\n",
    "import pandas as pd\n",
    "import matplotlib.pyplot as plt\n",
    "import seaborn as sb\n",
    "sb.set_style(\"whitegrid\")\n",
    "%matplotlib inline\n"
   ]
  },
  {
   "cell_type": "code",
   "execution_count": 2,
   "metadata": {},
   "outputs": [],
   "source": [
    "import warnings\n",
    "warnings.filterwarnings('ignore')"
   ]
  },
  {
   "cell_type": "code",
   "execution_count": 3,
   "metadata": {},
   "outputs": [
    {
     "data": {
      "text/html": [
       "<div>\n",
       "<style scoped>\n",
       "    .dataframe tbody tr th:only-of-type {\n",
       "        vertical-align: middle;\n",
       "    }\n",
       "\n",
       "    .dataframe tbody tr th {\n",
       "        vertical-align: top;\n",
       "    }\n",
       "\n",
       "    .dataframe thead th {\n",
       "        text-align: right;\n",
       "    }\n",
       "</style>\n",
       "<table border=\"1\" class=\"dataframe\">\n",
       "  <thead>\n",
       "    <tr style=\"text-align: right;\">\n",
       "      <th></th>\n",
       "      <th>InvoiceNo</th>\n",
       "      <th>StockCode</th>\n",
       "      <th>Description</th>\n",
       "      <th>Quantity</th>\n",
       "      <th>InvoiceDate</th>\n",
       "      <th>UnitPrice</th>\n",
       "      <th>CustomerID</th>\n",
       "      <th>Country</th>\n",
       "    </tr>\n",
       "  </thead>\n",
       "  <tbody>\n",
       "    <tr>\n",
       "      <th>0</th>\n",
       "      <td>536365</td>\n",
       "      <td>85123A</td>\n",
       "      <td>WHITE HANGING HEART T-LIGHT HOLDER</td>\n",
       "      <td>6</td>\n",
       "      <td>2010-12-01 08:26:00</td>\n",
       "      <td>2.55</td>\n",
       "      <td>17850.0</td>\n",
       "      <td>United Kingdom</td>\n",
       "    </tr>\n",
       "    <tr>\n",
       "      <th>1</th>\n",
       "      <td>536365</td>\n",
       "      <td>71053</td>\n",
       "      <td>WHITE METAL LANTERN</td>\n",
       "      <td>6</td>\n",
       "      <td>2010-12-01 08:26:00</td>\n",
       "      <td>3.39</td>\n",
       "      <td>17850.0</td>\n",
       "      <td>United Kingdom</td>\n",
       "    </tr>\n",
       "    <tr>\n",
       "      <th>2</th>\n",
       "      <td>536365</td>\n",
       "      <td>84406B</td>\n",
       "      <td>CREAM CUPID HEARTS COAT HANGER</td>\n",
       "      <td>8</td>\n",
       "      <td>2010-12-01 08:26:00</td>\n",
       "      <td>2.75</td>\n",
       "      <td>17850.0</td>\n",
       "      <td>United Kingdom</td>\n",
       "    </tr>\n",
       "    <tr>\n",
       "      <th>3</th>\n",
       "      <td>536365</td>\n",
       "      <td>84029G</td>\n",
       "      <td>KNITTED UNION FLAG HOT WATER BOTTLE</td>\n",
       "      <td>6</td>\n",
       "      <td>2010-12-01 08:26:00</td>\n",
       "      <td>3.39</td>\n",
       "      <td>17850.0</td>\n",
       "      <td>United Kingdom</td>\n",
       "    </tr>\n",
       "    <tr>\n",
       "      <th>4</th>\n",
       "      <td>536365</td>\n",
       "      <td>84029E</td>\n",
       "      <td>RED WOOLLY HOTTIE WHITE HEART.</td>\n",
       "      <td>6</td>\n",
       "      <td>2010-12-01 08:26:00</td>\n",
       "      <td>3.39</td>\n",
       "      <td>17850.0</td>\n",
       "      <td>United Kingdom</td>\n",
       "    </tr>\n",
       "  </tbody>\n",
       "</table>\n",
       "</div>"
      ],
      "text/plain": [
       "  InvoiceNo StockCode                          Description  Quantity  \\\n",
       "0    536365    85123A   WHITE HANGING HEART T-LIGHT HOLDER         6   \n",
       "1    536365     71053                  WHITE METAL LANTERN         6   \n",
       "2    536365    84406B       CREAM CUPID HEARTS COAT HANGER         8   \n",
       "3    536365    84029G  KNITTED UNION FLAG HOT WATER BOTTLE         6   \n",
       "4    536365    84029E       RED WOOLLY HOTTIE WHITE HEART.         6   \n",
       "\n",
       "          InvoiceDate  UnitPrice  CustomerID         Country  \n",
       "0 2010-12-01 08:26:00       2.55     17850.0  United Kingdom  \n",
       "1 2010-12-01 08:26:00       3.39     17850.0  United Kingdom  \n",
       "2 2010-12-01 08:26:00       2.75     17850.0  United Kingdom  \n",
       "3 2010-12-01 08:26:00       3.39     17850.0  United Kingdom  \n",
       "4 2010-12-01 08:26:00       3.39     17850.0  United Kingdom  "
      ]
     },
     "execution_count": 3,
     "metadata": {},
     "output_type": "execute_result"
    }
   ],
   "source": [
    "# Reading excel file of raw data\n",
    "path = r\"Datasets/Online Retail.xlsx\"\n",
    "df  = pd.read_excel(path)\n",
    "df.head()"
   ]
  },
  {
   "cell_type": "markdown",
   "metadata": {},
   "source": [
    "**Attribute Information**\n",
    "\n",
    "\n",
    "| Column name   | Desc         |\n",
    "|:------------- |:-------------| \n",
    "| InvoiceNo  | Invoice number. Nominal, a 6-digit integral number uniquely assigned to each transaction. If this code starts with letter 'c', it indicates a cancellation.    | \n",
    "|StockCode |Product (item) code. Nominal, a 5-digit integral number uniquely assigned to each distinct product.|\n",
    "|Description|Product (item) name. Nominal.|\n",
    "|Quantity|The quantities of each product (item) per transaction. Numeric.|\n",
    "| InvoiceDate|Invoice Date and time. Numeric, the day and time when each transaction was generated. |\n",
    "| UnitPrice| Unit price. Numeric, Product price per unit in sterling.|\n",
    "|CustomerID |Customer number. Nominal, a 5-digit integral number uniquely assigned to each customer. |\n",
    "|Country |Country name. Nominal, the name of the country where each customer resides. |\n",
    "\n"
   ]
  },
  {
   "cell_type": "code",
   "execution_count": 5,
   "metadata": {},
   "outputs": [
    {
     "name": "stdout",
     "output_type": "stream",
     "text": [
      "<class 'pandas.core.frame.DataFrame'>\n",
      "RangeIndex: 541909 entries, 0 to 541908\n",
      "Data columns (total 8 columns):\n",
      " #   Column       Non-Null Count   Dtype         \n",
      "---  ------       --------------   -----         \n",
      " 0   InvoiceNo    541909 non-null  object        \n",
      " 1   StockCode    541909 non-null  object        \n",
      " 2   Description  540455 non-null  object        \n",
      " 3   Quantity     541909 non-null  int64         \n",
      " 4   InvoiceDate  541909 non-null  datetime64[ns]\n",
      " 5   UnitPrice    541909 non-null  float64       \n",
      " 6   CustomerID   406829 non-null  float64       \n",
      " 7   Country      541909 non-null  object        \n",
      "dtypes: datetime64[ns](1), float64(2), int64(1), object(4)\n",
      "memory usage: 33.1+ MB\n"
     ]
    }
   ],
   "source": [
    "df.info()"
   ]
  },
  {
   "cell_type": "code",
   "execution_count": 18,
   "metadata": {},
   "outputs": [
    {
     "data": {
      "text/plain": [
       "(541909, 8)"
      ]
     },
     "execution_count": 18,
     "metadata": {},
     "output_type": "execute_result"
    }
   ],
   "source": [
    "#Data frame size (Rows and Columns)\n",
    "df.shape"
   ]
  },
  {
   "cell_type": "markdown",
   "metadata": {},
   "source": [
    "<a id='wrangling'></a>\n",
    "## Data Wrangling\n",
    "\n",
    "\n",
    "### General Properties"
   ]
  },
  {
   "cell_type": "code",
   "execution_count": 6,
   "metadata": {},
   "outputs": [
    {
     "data": {
      "text/plain": [
       "InvoiceNo      25900\n",
       "StockCode       4070\n",
       "Description     4223\n",
       "Quantity         722\n",
       "InvoiceDate    23260\n",
       "UnitPrice       1630\n",
       "CustomerID      4372\n",
       "Country           38\n",
       "dtype: int64"
      ]
     },
     "execution_count": 6,
     "metadata": {},
     "output_type": "execute_result"
    }
   ],
   "source": [
    "df.nunique()"
   ]
  },
  {
   "cell_type": "code",
   "execution_count": 7,
   "metadata": {},
   "outputs": [
    {
     "data": {
      "text/plain": [
       "InvoiceNo           0\n",
       "StockCode           0\n",
       "Description      1454\n",
       "Quantity            0\n",
       "InvoiceDate         0\n",
       "UnitPrice           0\n",
       "CustomerID     135080\n",
       "Country             0\n",
       "dtype: int64"
      ]
     },
     "execution_count": 7,
     "metadata": {},
     "output_type": "execute_result"
    }
   ],
   "source": [
    "df.isnull().sum()"
   ]
  },
  {
   "cell_type": "code",
   "execution_count": 17,
   "metadata": {},
   "outputs": [
    {
     "data": {
      "text/plain": [
       "CustomerID     0.249267\n",
       "Description    0.002683\n",
       "InvoiceNo      0.000000\n",
       "StockCode      0.000000\n",
       "Quantity       0.000000\n",
       "InvoiceDate    0.000000\n",
       "UnitPrice      0.000000\n",
       "Country        0.000000\n",
       "dtype: float64"
      ]
     },
     "execution_count": 17,
     "metadata": {},
     "output_type": "execute_result"
    }
   ],
   "source": [
    "na_ratio = df.isna().sum().sort_values(ascending = False)/len(df)\n",
    "na_ratio"
   ]
  },
  {
   "cell_type": "code",
   "execution_count": 9,
   "metadata": {},
   "outputs": [
    {
     "data": {
      "text/plain": [
       "5268"
      ]
     },
     "execution_count": 9,
     "metadata": {},
     "output_type": "execute_result"
    }
   ],
   "source": [
    "df.duplicated().sum()"
   ]
  },
  {
   "cell_type": "code",
   "execution_count": 10,
   "metadata": {},
   "outputs": [
    {
     "data": {
      "text/html": [
       "<div>\n",
       "<style scoped>\n",
       "    .dataframe tbody tr th:only-of-type {\n",
       "        vertical-align: middle;\n",
       "    }\n",
       "\n",
       "    .dataframe tbody tr th {\n",
       "        vertical-align: top;\n",
       "    }\n",
       "\n",
       "    .dataframe thead th {\n",
       "        text-align: right;\n",
       "    }\n",
       "</style>\n",
       "<table border=\"1\" class=\"dataframe\">\n",
       "  <thead>\n",
       "    <tr style=\"text-align: right;\">\n",
       "      <th></th>\n",
       "      <th>Quantity</th>\n",
       "      <th>UnitPrice</th>\n",
       "      <th>CustomerID</th>\n",
       "    </tr>\n",
       "  </thead>\n",
       "  <tbody>\n",
       "    <tr>\n",
       "      <th>count</th>\n",
       "      <td>541909.000000</td>\n",
       "      <td>541909.000000</td>\n",
       "      <td>406829.000000</td>\n",
       "    </tr>\n",
       "    <tr>\n",
       "      <th>mean</th>\n",
       "      <td>9.552250</td>\n",
       "      <td>4.611114</td>\n",
       "      <td>15287.690570</td>\n",
       "    </tr>\n",
       "    <tr>\n",
       "      <th>std</th>\n",
       "      <td>218.081158</td>\n",
       "      <td>96.759853</td>\n",
       "      <td>1713.600303</td>\n",
       "    </tr>\n",
       "    <tr>\n",
       "      <th>min</th>\n",
       "      <td>-80995.000000</td>\n",
       "      <td>-11062.060000</td>\n",
       "      <td>12346.000000</td>\n",
       "    </tr>\n",
       "    <tr>\n",
       "      <th>25%</th>\n",
       "      <td>1.000000</td>\n",
       "      <td>1.250000</td>\n",
       "      <td>13953.000000</td>\n",
       "    </tr>\n",
       "    <tr>\n",
       "      <th>50%</th>\n",
       "      <td>3.000000</td>\n",
       "      <td>2.080000</td>\n",
       "      <td>15152.000000</td>\n",
       "    </tr>\n",
       "    <tr>\n",
       "      <th>75%</th>\n",
       "      <td>10.000000</td>\n",
       "      <td>4.130000</td>\n",
       "      <td>16791.000000</td>\n",
       "    </tr>\n",
       "    <tr>\n",
       "      <th>max</th>\n",
       "      <td>80995.000000</td>\n",
       "      <td>38970.000000</td>\n",
       "      <td>18287.000000</td>\n",
       "    </tr>\n",
       "  </tbody>\n",
       "</table>\n",
       "</div>"
      ],
      "text/plain": [
       "            Quantity      UnitPrice     CustomerID\n",
       "count  541909.000000  541909.000000  406829.000000\n",
       "mean        9.552250       4.611114   15287.690570\n",
       "std       218.081158      96.759853    1713.600303\n",
       "min    -80995.000000  -11062.060000   12346.000000\n",
       "25%         1.000000       1.250000   13953.000000\n",
       "50%         3.000000       2.080000   15152.000000\n",
       "75%        10.000000       4.130000   16791.000000\n",
       "max     80995.000000   38970.000000   18287.000000"
      ]
     },
     "execution_count": 10,
     "metadata": {},
     "output_type": "execute_result"
    }
   ],
   "source": [
    "df.describe()"
   ]
  },
  {
   "cell_type": "code",
   "execution_count": 12,
   "metadata": {},
   "outputs": [
    {
     "data": {
      "text/html": [
       "<div>\n",
       "<style scoped>\n",
       "    .dataframe tbody tr th:only-of-type {\n",
       "        vertical-align: middle;\n",
       "    }\n",
       "\n",
       "    .dataframe tbody tr th {\n",
       "        vertical-align: top;\n",
       "    }\n",
       "\n",
       "    .dataframe thead th {\n",
       "        text-align: right;\n",
       "    }\n",
       "</style>\n",
       "<table border=\"1\" class=\"dataframe\">\n",
       "  <thead>\n",
       "    <tr style=\"text-align: right;\">\n",
       "      <th></th>\n",
       "      <th>InvoiceNo</th>\n",
       "      <th>StockCode</th>\n",
       "      <th>Description</th>\n",
       "      <th>Country</th>\n",
       "    </tr>\n",
       "  </thead>\n",
       "  <tbody>\n",
       "    <tr>\n",
       "      <th>count</th>\n",
       "      <td>541909</td>\n",
       "      <td>541909</td>\n",
       "      <td>540455</td>\n",
       "      <td>541909</td>\n",
       "    </tr>\n",
       "    <tr>\n",
       "      <th>unique</th>\n",
       "      <td>25900</td>\n",
       "      <td>4070</td>\n",
       "      <td>4223</td>\n",
       "      <td>38</td>\n",
       "    </tr>\n",
       "    <tr>\n",
       "      <th>top</th>\n",
       "      <td>573585</td>\n",
       "      <td>85123A</td>\n",
       "      <td>WHITE HANGING HEART T-LIGHT HOLDER</td>\n",
       "      <td>United Kingdom</td>\n",
       "    </tr>\n",
       "    <tr>\n",
       "      <th>freq</th>\n",
       "      <td>1114</td>\n",
       "      <td>2313</td>\n",
       "      <td>2369</td>\n",
       "      <td>495478</td>\n",
       "    </tr>\n",
       "  </tbody>\n",
       "</table>\n",
       "</div>"
      ],
      "text/plain": [
       "        InvoiceNo StockCode                         Description  \\\n",
       "count      541909    541909                              540455   \n",
       "unique      25900      4070                                4223   \n",
       "top        573585    85123A  WHITE HANGING HEART T-LIGHT HOLDER   \n",
       "freq         1114      2313                                2369   \n",
       "\n",
       "               Country  \n",
       "count           541909  \n",
       "unique              38  \n",
       "top     United Kingdom  \n",
       "freq            495478  "
      ]
     },
     "execution_count": 12,
     "metadata": {},
     "output_type": "execute_result"
    }
   ],
   "source": [
    "df.describe(include = 'object')"
   ]
  },
  {
   "cell_type": "code",
   "execution_count": 13,
   "metadata": {},
   "outputs": [
    {
     "data": {
      "text/plain": [
       "85123A      2313\n",
       "22423       2203\n",
       "85099B      2159\n",
       "47566       1727\n",
       "20725       1639\n",
       "            ... \n",
       "72793          1\n",
       "90068          1\n",
       "84670          1\n",
       "20896          1\n",
       "DCGS0073       1\n",
       "Name: StockCode, Length: 4070, dtype: int64"
      ]
     },
     "execution_count": 13,
     "metadata": {},
     "output_type": "execute_result"
    }
   ],
   "source": [
    "df.StockCode.value_counts()"
   ]
  },
  {
   "cell_type": "code",
   "execution_count": 14,
   "metadata": {},
   "outputs": [
    {
     "data": {
      "text/plain": [
       "573585     1114\n",
       "581219      749\n",
       "581492      731\n",
       "580729      721\n",
       "558475      705\n",
       "           ... \n",
       "559943        1\n",
       "559945        1\n",
       "559946        1\n",
       "C580768       1\n",
       "C572346       1\n",
       "Name: InvoiceNo, Length: 25900, dtype: int64"
      ]
     },
     "execution_count": 14,
     "metadata": {},
     "output_type": "execute_result"
    }
   ],
   "source": [
    "df.InvoiceNo.value_counts()"
   ]
  },
  {
   "cell_type": "markdown",
   "metadata": {},
   "source": [
    "### The structure of your dataset\n",
    "\n",
    "> The dataset contains 541909 observations/rows, 8 features/columns\n",
    "\n",
    "### The main feature(s) of interest in your dataset?\n",
    "\n",
    "> The Features that are essential for RFM (Recency, Frequency, and Monetary) customer segmentation, that are date, how many times the customers buy from customerid and how much from the invoice no.\n",
    "\n",
    "> Also Country column is a main feature of interest for clustering"
   ]
  },
  {
   "cell_type": "markdown",
   "metadata": {},
   "source": [
    "\n",
    "### Data Cleaning & preprocessing"
   ]
  },
  {
   "cell_type": "markdown",
   "metadata": {},
   "source": [
    "- Quantity column contains negative numbers, also max and min numbers are the same\n",
    "- Unit price also has negative values( will add a new column for the product of quantity and unit price for EDA)\n",
    "- InvoiceNo column and StockCode should be parsed as int but the columns contain Letters like A and C(for cancellation of invoice)\n",
    "- Change StockCode to category type\n",
    "- The dataset contains duplicates\n",
    "- about 25 % of the Customer ID column values are missing/only values which are not Null will be accounted\n",
    "- Drop Description column\n",
    "- Adding Longitude and Latitude from google maps dataset for each Country that would aid in clustering.\n",
    "- Changing Type of the CustomerID column to be Integer instead of Float\n"
   ]
  },
  {
   "cell_type": "code",
   "execution_count": 4,
   "metadata": {},
   "outputs": [],
   "source": [
    "#droping duplicate values\n",
    "df.drop_duplicates(inplace = True)"
   ]
  },
  {
   "cell_type": "code",
   "execution_count": 5,
   "metadata": {},
   "outputs": [],
   "source": [
    "#extracting Date from Invoice date instead of date time\n",
    "df['Date'] = df['InvoiceDate'].dt.date"
   ]
  },
  {
   "cell_type": "code",
   "execution_count": 6,
   "metadata": {},
   "outputs": [
    {
     "data": {
      "text/html": [
       "<div>\n",
       "<style scoped>\n",
       "    .dataframe tbody tr th:only-of-type {\n",
       "        vertical-align: middle;\n",
       "    }\n",
       "\n",
       "    .dataframe tbody tr th {\n",
       "        vertical-align: top;\n",
       "    }\n",
       "\n",
       "    .dataframe thead th {\n",
       "        text-align: right;\n",
       "    }\n",
       "</style>\n",
       "<table border=\"1\" class=\"dataframe\">\n",
       "  <thead>\n",
       "    <tr style=\"text-align: right;\">\n",
       "      <th></th>\n",
       "      <th>InvoiceNo</th>\n",
       "      <th>StockCode</th>\n",
       "      <th>Description</th>\n",
       "      <th>Quantity</th>\n",
       "      <th>InvoiceDate</th>\n",
       "      <th>UnitPrice</th>\n",
       "      <th>CustomerID</th>\n",
       "      <th>Country</th>\n",
       "      <th>Date</th>\n",
       "    </tr>\n",
       "  </thead>\n",
       "  <tbody>\n",
       "    <tr>\n",
       "      <th>0</th>\n",
       "      <td>536365</td>\n",
       "      <td>85123A</td>\n",
       "      <td>WHITE HANGING HEART T-LIGHT HOLDER</td>\n",
       "      <td>6</td>\n",
       "      <td>2010-12-01 08:26:00</td>\n",
       "      <td>2.55</td>\n",
       "      <td>17850.0</td>\n",
       "      <td>United Kingdom</td>\n",
       "      <td>2010-12-01</td>\n",
       "    </tr>\n",
       "  </tbody>\n",
       "</table>\n",
       "</div>"
      ],
      "text/plain": [
       "  InvoiceNo StockCode                         Description  Quantity  \\\n",
       "0    536365    85123A  WHITE HANGING HEART T-LIGHT HOLDER         6   \n",
       "\n",
       "          InvoiceDate  UnitPrice  CustomerID         Country        Date  \n",
       "0 2010-12-01 08:26:00       2.55     17850.0  United Kingdom  2010-12-01  "
      ]
     },
     "execution_count": 6,
     "metadata": {},
     "output_type": "execute_result"
    }
   ],
   "source": [
    "#Test\n",
    "df.head(1)"
   ]
  },
  {
   "cell_type": "code",
   "execution_count": 26,
   "metadata": {
    "collapsed": true
   },
   "outputs": [
    {
     "data": {
      "text/plain": [
       "['United Kingdom',\n",
       " 'France',\n",
       " 'Australia',\n",
       " 'Netherlands',\n",
       " 'Germany',\n",
       " 'Norway',\n",
       " 'EIRE',\n",
       " 'Switzerland',\n",
       " 'Spain',\n",
       " 'Poland',\n",
       " 'Portugal',\n",
       " 'Italy',\n",
       " 'Belgium',\n",
       " 'Lithuania',\n",
       " 'Japan',\n",
       " 'Iceland',\n",
       " 'Channel Islands',\n",
       " 'Denmark',\n",
       " 'Cyprus',\n",
       " 'Sweden',\n",
       " 'Austria',\n",
       " 'Israel',\n",
       " 'Finland',\n",
       " 'Bahrain',\n",
       " 'Greece',\n",
       " 'Hong Kong',\n",
       " 'Singapore',\n",
       " 'Lebanon',\n",
       " 'United Arab Emirates',\n",
       " 'Saudi Arabia',\n",
       " 'Czech Republic',\n",
       " 'Canada',\n",
       " 'Unspecified',\n",
       " 'Brazil',\n",
       " 'USA',\n",
       " 'European Community',\n",
       " 'Malta',\n",
       " 'RSA']"
      ]
     },
     "execution_count": 26,
     "metadata": {},
     "output_type": "execute_result"
    }
   ],
   "source": [
    "df.Country.unique().tolist()"
   ]
  },
  {
   "cell_type": "code",
   "execution_count": 7,
   "metadata": {},
   "outputs": [
    {
     "data": {
      "text/html": [
       "<div>\n",
       "<style scoped>\n",
       "    .dataframe tbody tr th:only-of-type {\n",
       "        vertical-align: middle;\n",
       "    }\n",
       "\n",
       "    .dataframe tbody tr th {\n",
       "        vertical-align: top;\n",
       "    }\n",
       "\n",
       "    .dataframe thead th {\n",
       "        text-align: right;\n",
       "    }\n",
       "</style>\n",
       "<table border=\"1\" class=\"dataframe\">\n",
       "  <thead>\n",
       "    <tr style=\"text-align: right;\">\n",
       "      <th></th>\n",
       "      <th>InvoiceNo</th>\n",
       "      <th>StockCode</th>\n",
       "      <th>Description</th>\n",
       "      <th>Quantity</th>\n",
       "      <th>InvoiceDate</th>\n",
       "      <th>UnitPrice</th>\n",
       "      <th>CustomerID</th>\n",
       "      <th>Country</th>\n",
       "      <th>Date</th>\n",
       "      <th>InVoice_month</th>\n",
       "    </tr>\n",
       "  </thead>\n",
       "  <tbody>\n",
       "    <tr>\n",
       "      <th>0</th>\n",
       "      <td>536365</td>\n",
       "      <td>85123A</td>\n",
       "      <td>WHITE HANGING HEART T-LIGHT HOLDER</td>\n",
       "      <td>6</td>\n",
       "      <td>2010-12-01 08:26:00</td>\n",
       "      <td>2.55</td>\n",
       "      <td>17850.0</td>\n",
       "      <td>United Kingdom</td>\n",
       "      <td>2010-12-01</td>\n",
       "      <td>12</td>\n",
       "    </tr>\n",
       "    <tr>\n",
       "      <th>1</th>\n",
       "      <td>536365</td>\n",
       "      <td>71053</td>\n",
       "      <td>WHITE METAL LANTERN</td>\n",
       "      <td>6</td>\n",
       "      <td>2010-12-01 08:26:00</td>\n",
       "      <td>3.39</td>\n",
       "      <td>17850.0</td>\n",
       "      <td>United Kingdom</td>\n",
       "      <td>2010-12-01</td>\n",
       "      <td>12</td>\n",
       "    </tr>\n",
       "    <tr>\n",
       "      <th>2</th>\n",
       "      <td>536365</td>\n",
       "      <td>84406B</td>\n",
       "      <td>CREAM CUPID HEARTS COAT HANGER</td>\n",
       "      <td>8</td>\n",
       "      <td>2010-12-01 08:26:00</td>\n",
       "      <td>2.75</td>\n",
       "      <td>17850.0</td>\n",
       "      <td>United Kingdom</td>\n",
       "      <td>2010-12-01</td>\n",
       "      <td>12</td>\n",
       "    </tr>\n",
       "    <tr>\n",
       "      <th>3</th>\n",
       "      <td>536365</td>\n",
       "      <td>84029G</td>\n",
       "      <td>KNITTED UNION FLAG HOT WATER BOTTLE</td>\n",
       "      <td>6</td>\n",
       "      <td>2010-12-01 08:26:00</td>\n",
       "      <td>3.39</td>\n",
       "      <td>17850.0</td>\n",
       "      <td>United Kingdom</td>\n",
       "      <td>2010-12-01</td>\n",
       "      <td>12</td>\n",
       "    </tr>\n",
       "    <tr>\n",
       "      <th>4</th>\n",
       "      <td>536365</td>\n",
       "      <td>84029E</td>\n",
       "      <td>RED WOOLLY HOTTIE WHITE HEART.</td>\n",
       "      <td>6</td>\n",
       "      <td>2010-12-01 08:26:00</td>\n",
       "      <td>3.39</td>\n",
       "      <td>17850.0</td>\n",
       "      <td>United Kingdom</td>\n",
       "      <td>2010-12-01</td>\n",
       "      <td>12</td>\n",
       "    </tr>\n",
       "  </tbody>\n",
       "</table>\n",
       "</div>"
      ],
      "text/plain": [
       "  InvoiceNo StockCode                          Description  Quantity  \\\n",
       "0    536365    85123A   WHITE HANGING HEART T-LIGHT HOLDER         6   \n",
       "1    536365     71053                  WHITE METAL LANTERN         6   \n",
       "2    536365    84406B       CREAM CUPID HEARTS COAT HANGER         8   \n",
       "3    536365    84029G  KNITTED UNION FLAG HOT WATER BOTTLE         6   \n",
       "4    536365    84029E       RED WOOLLY HOTTIE WHITE HEART.         6   \n",
       "\n",
       "          InvoiceDate  UnitPrice  CustomerID         Country        Date  \\\n",
       "0 2010-12-01 08:26:00       2.55     17850.0  United Kingdom  2010-12-01   \n",
       "1 2010-12-01 08:26:00       3.39     17850.0  United Kingdom  2010-12-01   \n",
       "2 2010-12-01 08:26:00       2.75     17850.0  United Kingdom  2010-12-01   \n",
       "3 2010-12-01 08:26:00       3.39     17850.0  United Kingdom  2010-12-01   \n",
       "4 2010-12-01 08:26:00       3.39     17850.0  United Kingdom  2010-12-01   \n",
       "\n",
       "   InVoice_month  \n",
       "0             12  \n",
       "1             12  \n",
       "2             12  \n",
       "3             12  \n",
       "4             12  "
      ]
     },
     "execution_count": 7,
     "metadata": {},
     "output_type": "execute_result"
    }
   ],
   "source": [
    "df['InVoice_month'] = df['InvoiceDate'].dt.month\n",
    "df.head()"
   ]
  },
  {
   "cell_type": "code",
   "execution_count": 9,
   "metadata": {},
   "outputs": [
    {
     "data": {
      "text/html": [
       "<div>\n",
       "<style scoped>\n",
       "    .dataframe tbody tr th:only-of-type {\n",
       "        vertical-align: middle;\n",
       "    }\n",
       "\n",
       "    .dataframe tbody tr th {\n",
       "        vertical-align: top;\n",
       "    }\n",
       "\n",
       "    .dataframe thead th {\n",
       "        text-align: right;\n",
       "    }\n",
       "</style>\n",
       "<table border=\"1\" class=\"dataframe\">\n",
       "  <thead>\n",
       "    <tr style=\"text-align: right;\">\n",
       "      <th></th>\n",
       "      <th>InvoiceNo</th>\n",
       "      <th>StockCode</th>\n",
       "      <th>Description</th>\n",
       "      <th>Quantity</th>\n",
       "      <th>InvoiceDate</th>\n",
       "      <th>UnitPrice</th>\n",
       "      <th>CustomerID</th>\n",
       "      <th>Country</th>\n",
       "      <th>Date</th>\n",
       "      <th>InVoice_month</th>\n",
       "      <th>Total_sum</th>\n",
       "    </tr>\n",
       "  </thead>\n",
       "  <tbody>\n",
       "    <tr>\n",
       "      <th>0</th>\n",
       "      <td>536365</td>\n",
       "      <td>85123A</td>\n",
       "      <td>WHITE HANGING HEART T-LIGHT HOLDER</td>\n",
       "      <td>6</td>\n",
       "      <td>2010-12-01 08:26:00</td>\n",
       "      <td>2.55</td>\n",
       "      <td>17850.0</td>\n",
       "      <td>United Kingdom</td>\n",
       "      <td>2010-12-01</td>\n",
       "      <td>12</td>\n",
       "      <td>15.3</td>\n",
       "    </tr>\n",
       "  </tbody>\n",
       "</table>\n",
       "</div>"
      ],
      "text/plain": [
       "  InvoiceNo StockCode                         Description  Quantity  \\\n",
       "0    536365    85123A  WHITE HANGING HEART T-LIGHT HOLDER         6   \n",
       "\n",
       "          InvoiceDate  UnitPrice  CustomerID         Country        Date  \\\n",
       "0 2010-12-01 08:26:00       2.55     17850.0  United Kingdom  2010-12-01   \n",
       "\n",
       "   InVoice_month  Total_sum  \n",
       "0             12       15.3  "
      ]
     },
     "execution_count": 9,
     "metadata": {},
     "output_type": "execute_result"
    }
   ],
   "source": [
    "#creating a total sum column for the product of unit price and quantity \n",
    "df['Total_sum'] = df['Quantity'] * df['UnitPrice']\n",
    "df.head(1)"
   ]
  },
  {
   "cell_type": "code",
   "execution_count": 10,
   "metadata": {},
   "outputs": [],
   "source": [
    "#Adding Log and Lat for the given df from google country dataset for clustering purposes\n",
    "# Import country long/lat location from google\n",
    "country_loc = pd.read_html(\n",
    "    'https://developers.google.com/public-data/docs/canonical/countries_csv', header=0)\n",
    "\n",
    "# Convert data to df\n",
    "country_loc_df = pd.DataFrame(data=country_loc[0])\n"
   ]
  },
  {
   "cell_type": "code",
   "execution_count": 11,
   "metadata": {},
   "outputs": [
    {
     "data": {
      "text/html": [
       "<div>\n",
       "<style scoped>\n",
       "    .dataframe tbody tr th:only-of-type {\n",
       "        vertical-align: middle;\n",
       "    }\n",
       "\n",
       "    .dataframe tbody tr th {\n",
       "        vertical-align: top;\n",
       "    }\n",
       "\n",
       "    .dataframe thead th {\n",
       "        text-align: right;\n",
       "    }\n",
       "</style>\n",
       "<table border=\"1\" class=\"dataframe\">\n",
       "  <thead>\n",
       "    <tr style=\"text-align: right;\">\n",
       "      <th></th>\n",
       "      <th>country</th>\n",
       "      <th>latitude</th>\n",
       "      <th>longitude</th>\n",
       "      <th>name</th>\n",
       "    </tr>\n",
       "  </thead>\n",
       "  <tbody>\n",
       "    <tr>\n",
       "      <th>0</th>\n",
       "      <td>AD</td>\n",
       "      <td>42.546245</td>\n",
       "      <td>1.601554</td>\n",
       "      <td>Andorra</td>\n",
       "    </tr>\n",
       "    <tr>\n",
       "      <th>1</th>\n",
       "      <td>AE</td>\n",
       "      <td>23.424076</td>\n",
       "      <td>53.847818</td>\n",
       "      <td>United Arab Emirates</td>\n",
       "    </tr>\n",
       "    <tr>\n",
       "      <th>2</th>\n",
       "      <td>AF</td>\n",
       "      <td>33.939110</td>\n",
       "      <td>67.709953</td>\n",
       "      <td>Afghanistan</td>\n",
       "    </tr>\n",
       "    <tr>\n",
       "      <th>3</th>\n",
       "      <td>AG</td>\n",
       "      <td>17.060816</td>\n",
       "      <td>-61.796428</td>\n",
       "      <td>Antigua and Barbuda</td>\n",
       "    </tr>\n",
       "    <tr>\n",
       "      <th>4</th>\n",
       "      <td>AI</td>\n",
       "      <td>18.220554</td>\n",
       "      <td>-63.068615</td>\n",
       "      <td>Anguilla</td>\n",
       "    </tr>\n",
       "    <tr>\n",
       "      <th>...</th>\n",
       "      <td>...</td>\n",
       "      <td>...</td>\n",
       "      <td>...</td>\n",
       "      <td>...</td>\n",
       "    </tr>\n",
       "    <tr>\n",
       "      <th>240</th>\n",
       "      <td>YE</td>\n",
       "      <td>15.552727</td>\n",
       "      <td>48.516388</td>\n",
       "      <td>Yemen</td>\n",
       "    </tr>\n",
       "    <tr>\n",
       "      <th>241</th>\n",
       "      <td>YT</td>\n",
       "      <td>-12.827500</td>\n",
       "      <td>45.166244</td>\n",
       "      <td>Mayotte</td>\n",
       "    </tr>\n",
       "    <tr>\n",
       "      <th>242</th>\n",
       "      <td>ZA</td>\n",
       "      <td>-30.559482</td>\n",
       "      <td>22.937506</td>\n",
       "      <td>South Africa</td>\n",
       "    </tr>\n",
       "    <tr>\n",
       "      <th>243</th>\n",
       "      <td>ZM</td>\n",
       "      <td>-13.133897</td>\n",
       "      <td>27.849332</td>\n",
       "      <td>Zambia</td>\n",
       "    </tr>\n",
       "    <tr>\n",
       "      <th>244</th>\n",
       "      <td>ZW</td>\n",
       "      <td>-19.015438</td>\n",
       "      <td>29.154857</td>\n",
       "      <td>Zimbabwe</td>\n",
       "    </tr>\n",
       "  </tbody>\n",
       "</table>\n",
       "<p>245 rows × 4 columns</p>\n",
       "</div>"
      ],
      "text/plain": [
       "    country   latitude  longitude                  name\n",
       "0        AD  42.546245   1.601554               Andorra\n",
       "1        AE  23.424076  53.847818  United Arab Emirates\n",
       "2        AF  33.939110  67.709953           Afghanistan\n",
       "3        AG  17.060816 -61.796428   Antigua and Barbuda\n",
       "4        AI  18.220554 -63.068615              Anguilla\n",
       "..      ...        ...        ...                   ...\n",
       "240      YE  15.552727  48.516388                 Yemen\n",
       "241      YT -12.827500  45.166244               Mayotte\n",
       "242      ZA -30.559482  22.937506          South Africa\n",
       "243      ZM -13.133897  27.849332                Zambia\n",
       "244      ZW -19.015438  29.154857              Zimbabwe\n",
       "\n",
       "[245 rows x 4 columns]"
      ]
     },
     "execution_count": 11,
     "metadata": {},
     "output_type": "execute_result"
    }
   ],
   "source": [
    "country_loc_df"
   ]
  },
  {
   "cell_type": "code",
   "execution_count": 12,
   "metadata": {},
   "outputs": [
    {
     "data": {
      "text/html": [
       "<div>\n",
       "<style scoped>\n",
       "    .dataframe tbody tr th:only-of-type {\n",
       "        vertical-align: middle;\n",
       "    }\n",
       "\n",
       "    .dataframe tbody tr th {\n",
       "        vertical-align: top;\n",
       "    }\n",
       "\n",
       "    .dataframe thead th {\n",
       "        text-align: right;\n",
       "    }\n",
       "</style>\n",
       "<table border=\"1\" class=\"dataframe\">\n",
       "  <thead>\n",
       "    <tr style=\"text-align: right;\">\n",
       "      <th></th>\n",
       "      <th>latitude</th>\n",
       "      <th>longitude</th>\n",
       "      <th>Country</th>\n",
       "    </tr>\n",
       "  </thead>\n",
       "  <tbody>\n",
       "    <tr>\n",
       "      <th>0</th>\n",
       "      <td>42.546245</td>\n",
       "      <td>1.601554</td>\n",
       "      <td>Andorra</td>\n",
       "    </tr>\n",
       "  </tbody>\n",
       "</table>\n",
       "</div>"
      ],
      "text/plain": [
       "    latitude  longitude  Country\n",
       "0  42.546245   1.601554  Andorra"
      ]
     },
     "execution_count": 12,
     "metadata": {},
     "output_type": "execute_result"
    }
   ],
   "source": [
    "# Drop country abbreviation\n",
    "country_loc_df.drop(['country'], axis=1, inplace=True)\n",
    "\n",
    "# Rename index column\n",
    "country_loc_df.rename(index=str, columns={'name':'Country'}, inplace=True)\n",
    "\n",
    "country_loc_df.head(1)"
   ]
  },
  {
   "cell_type": "code",
   "execution_count": 13,
   "metadata": {},
   "outputs": [],
   "source": [
    "# Replace countries with correct labels\n",
    "df.loc[df['Country'] == 'EIRE', 'Country'] = 'Ireland'\n",
    "df.loc[df['Country'] == 'RSA', 'Country'] = 'South Africa'\n",
    "df.loc[df['Country'] == 'USA', 'Country'] = 'United States'\n",
    "df.loc[df['Country'] == 'European Community', 'Country'] = 'France'\n",
    "df.loc[df['Country'] == 'Channel Islands', 'Country'] = 'Jersey'\n",
    "df.loc[df['Country'] == 'Unspecified', 'Country'] = 'United Kingdom'\n",
    "\n",
    "\n",
    "# Combine data together\n",
    "df = df.merge(country_loc_df, on=['Country', 'Country'])\n",
    "\n",
    "# Convert country to categorical dtype\n",
    "df['Country'] = df.Country.astype('category')"
   ]
  },
  {
   "cell_type": "code",
   "execution_count": 50,
   "metadata": {
    "collapsed": true
   },
   "outputs": [
    {
     "data": {
      "text/plain": [
       "['United Kingdom',\n",
       " 'France',\n",
       " 'Australia',\n",
       " 'Netherlands',\n",
       " 'Germany',\n",
       " 'Norway',\n",
       " 'Ireland',\n",
       " 'Switzerland',\n",
       " 'Spain',\n",
       " 'Poland',\n",
       " 'Portugal',\n",
       " 'Italy',\n",
       " 'Belgium',\n",
       " 'Lithuania',\n",
       " 'Japan',\n",
       " 'Iceland',\n",
       " 'Jersey',\n",
       " 'Denmark',\n",
       " 'Cyprus',\n",
       " 'Sweden',\n",
       " 'Austria',\n",
       " 'Israel',\n",
       " 'Finland',\n",
       " 'Bahrain',\n",
       " 'Greece',\n",
       " 'Hong Kong',\n",
       " 'Singapore',\n",
       " 'Lebanon',\n",
       " 'United Arab Emirates',\n",
       " 'Saudi Arabia',\n",
       " 'Czech Republic',\n",
       " 'Canada',\n",
       " 'Brazil',\n",
       " 'United States',\n",
       " 'Malta',\n",
       " 'South Africa']"
      ]
     },
     "execution_count": 50,
     "metadata": {},
     "output_type": "execute_result"
    }
   ],
   "source": [
    "#Test\n",
    "df['Country'].unique().tolist()"
   ]
  },
  {
   "cell_type": "code",
   "execution_count": 14,
   "metadata": {},
   "outputs": [
    {
     "data": {
      "text/html": [
       "<div>\n",
       "<style scoped>\n",
       "    .dataframe tbody tr th:only-of-type {\n",
       "        vertical-align: middle;\n",
       "    }\n",
       "\n",
       "    .dataframe tbody tr th {\n",
       "        vertical-align: top;\n",
       "    }\n",
       "\n",
       "    .dataframe thead th {\n",
       "        text-align: right;\n",
       "    }\n",
       "</style>\n",
       "<table border=\"1\" class=\"dataframe\">\n",
       "  <thead>\n",
       "    <tr style=\"text-align: right;\">\n",
       "      <th></th>\n",
       "      <th>Quantity</th>\n",
       "      <th>UnitPrice</th>\n",
       "      <th>CustomerID</th>\n",
       "      <th>InVoice_month</th>\n",
       "      <th>Total_sum</th>\n",
       "      <th>latitude</th>\n",
       "      <th>longitude</th>\n",
       "    </tr>\n",
       "  </thead>\n",
       "  <tbody>\n",
       "    <tr>\n",
       "      <th>count</th>\n",
       "      <td>401604.000000</td>\n",
       "      <td>401604.000000</td>\n",
       "      <td>401604.000000</td>\n",
       "      <td>401604.000000</td>\n",
       "      <td>401604.000000</td>\n",
       "      <td>401604.000000</td>\n",
       "      <td>401604.000000</td>\n",
       "    </tr>\n",
       "    <tr>\n",
       "      <th>mean</th>\n",
       "      <td>12.183273</td>\n",
       "      <td>3.474064</td>\n",
       "      <td>15281.160818</td>\n",
       "      <td>7.595407</td>\n",
       "      <td>20.613638</td>\n",
       "      <td>54.397612</td>\n",
       "      <td>-2.137700</td>\n",
       "    </tr>\n",
       "    <tr>\n",
       "      <th>std</th>\n",
       "      <td>250.283037</td>\n",
       "      <td>69.764035</td>\n",
       "      <td>1714.006089</td>\n",
       "      <td>3.417451</td>\n",
       "      <td>430.352218</td>\n",
       "      <td>5.518008</td>\n",
       "      <td>10.373150</td>\n",
       "    </tr>\n",
       "    <tr>\n",
       "      <th>min</th>\n",
       "      <td>-80995.000000</td>\n",
       "      <td>0.000000</td>\n",
       "      <td>12346.000000</td>\n",
       "      <td>1.000000</td>\n",
       "      <td>-168469.600000</td>\n",
       "      <td>-30.559482</td>\n",
       "      <td>-106.346771</td>\n",
       "    </tr>\n",
       "    <tr>\n",
       "      <th>25%</th>\n",
       "      <td>2.000000</td>\n",
       "      <td>1.250000</td>\n",
       "      <td>13939.000000</td>\n",
       "      <td>5.000000</td>\n",
       "      <td>4.250000</td>\n",
       "      <td>55.378051</td>\n",
       "      <td>-3.435973</td>\n",
       "    </tr>\n",
       "    <tr>\n",
       "      <th>50%</th>\n",
       "      <td>5.000000</td>\n",
       "      <td>1.950000</td>\n",
       "      <td>15145.000000</td>\n",
       "      <td>8.000000</td>\n",
       "      <td>11.700000</td>\n",
       "      <td>55.378051</td>\n",
       "      <td>-3.435973</td>\n",
       "    </tr>\n",
       "    <tr>\n",
       "      <th>75%</th>\n",
       "      <td>12.000000</td>\n",
       "      <td>3.750000</td>\n",
       "      <td>16784.000000</td>\n",
       "      <td>11.000000</td>\n",
       "      <td>19.800000</td>\n",
       "      <td>55.378051</td>\n",
       "      <td>-3.435973</td>\n",
       "    </tr>\n",
       "    <tr>\n",
       "      <th>max</th>\n",
       "      <td>80995.000000</td>\n",
       "      <td>38970.000000</td>\n",
       "      <td>18287.000000</td>\n",
       "      <td>12.000000</td>\n",
       "      <td>168469.600000</td>\n",
       "      <td>64.963051</td>\n",
       "      <td>138.252924</td>\n",
       "    </tr>\n",
       "  </tbody>\n",
       "</table>\n",
       "</div>"
      ],
      "text/plain": [
       "            Quantity      UnitPrice     CustomerID  InVoice_month  \\\n",
       "count  401604.000000  401604.000000  401604.000000  401604.000000   \n",
       "mean       12.183273       3.474064   15281.160818       7.595407   \n",
       "std       250.283037      69.764035    1714.006089       3.417451   \n",
       "min    -80995.000000       0.000000   12346.000000       1.000000   \n",
       "25%         2.000000       1.250000   13939.000000       5.000000   \n",
       "50%         5.000000       1.950000   15145.000000       8.000000   \n",
       "75%        12.000000       3.750000   16784.000000      11.000000   \n",
       "max     80995.000000   38970.000000   18287.000000      12.000000   \n",
       "\n",
       "           Total_sum       latitude      longitude  \n",
       "count  401604.000000  401604.000000  401604.000000  \n",
       "mean       20.613638      54.397612      -2.137700  \n",
       "std       430.352218       5.518008      10.373150  \n",
       "min   -168469.600000     -30.559482    -106.346771  \n",
       "25%         4.250000      55.378051      -3.435973  \n",
       "50%        11.700000      55.378051      -3.435973  \n",
       "75%        19.800000      55.378051      -3.435973  \n",
       "max    168469.600000      64.963051     138.252924  "
      ]
     },
     "execution_count": 14,
     "metadata": {},
     "output_type": "execute_result"
    }
   ],
   "source": [
    "# offsitting the rows where Customer Id is Null\n",
    "df = df[pd.notnull(df['CustomerID'])]\n",
    "df.describe()"
   ]
  },
  {
   "cell_type": "code",
   "execution_count": 16,
   "metadata": {},
   "outputs": [
    {
     "data": {
      "text/html": [
       "<div>\n",
       "<style scoped>\n",
       "    .dataframe tbody tr th:only-of-type {\n",
       "        vertical-align: middle;\n",
       "    }\n",
       "\n",
       "    .dataframe tbody tr th {\n",
       "        vertical-align: top;\n",
       "    }\n",
       "\n",
       "    .dataframe thead th {\n",
       "        text-align: right;\n",
       "    }\n",
       "</style>\n",
       "<table border=\"1\" class=\"dataframe\">\n",
       "  <thead>\n",
       "    <tr style=\"text-align: right;\">\n",
       "      <th></th>\n",
       "      <th>Quantity</th>\n",
       "      <th>UnitPrice</th>\n",
       "      <th>CustomerID</th>\n",
       "      <th>InVoice_month</th>\n",
       "      <th>Total_sum</th>\n",
       "      <th>latitude</th>\n",
       "      <th>longitude</th>\n",
       "    </tr>\n",
       "  </thead>\n",
       "  <tbody>\n",
       "    <tr>\n",
       "      <th>count</th>\n",
       "      <td>392692.000000</td>\n",
       "      <td>392692.000000</td>\n",
       "      <td>392692.000000</td>\n",
       "      <td>392692.000000</td>\n",
       "      <td>392692.000000</td>\n",
       "      <td>392692.000000</td>\n",
       "      <td>392692.000000</td>\n",
       "    </tr>\n",
       "    <tr>\n",
       "      <th>mean</th>\n",
       "      <td>13.119702</td>\n",
       "      <td>3.125914</td>\n",
       "      <td>15287.843865</td>\n",
       "      <td>7.601871</td>\n",
       "      <td>22.631500</td>\n",
       "      <td>54.415770</td>\n",
       "      <td>-2.148000</td>\n",
       "    </tr>\n",
       "    <tr>\n",
       "      <th>std</th>\n",
       "      <td>180.492832</td>\n",
       "      <td>22.241836</td>\n",
       "      <td>1713.539549</td>\n",
       "      <td>3.415015</td>\n",
       "      <td>311.099224</td>\n",
       "      <td>5.437055</td>\n",
       "      <td>10.073138</td>\n",
       "    </tr>\n",
       "    <tr>\n",
       "      <th>min</th>\n",
       "      <td>1.000000</td>\n",
       "      <td>0.001000</td>\n",
       "      <td>12346.000000</td>\n",
       "      <td>1.000000</td>\n",
       "      <td>0.001000</td>\n",
       "      <td>-30.559482</td>\n",
       "      <td>-106.346771</td>\n",
       "    </tr>\n",
       "    <tr>\n",
       "      <th>25%</th>\n",
       "      <td>2.000000</td>\n",
       "      <td>1.250000</td>\n",
       "      <td>13955.000000</td>\n",
       "      <td>5.000000</td>\n",
       "      <td>4.950000</td>\n",
       "      <td>55.378051</td>\n",
       "      <td>-3.435973</td>\n",
       "    </tr>\n",
       "    <tr>\n",
       "      <th>50%</th>\n",
       "      <td>6.000000</td>\n",
       "      <td>1.950000</td>\n",
       "      <td>15150.000000</td>\n",
       "      <td>8.000000</td>\n",
       "      <td>12.450000</td>\n",
       "      <td>55.378051</td>\n",
       "      <td>-3.435973</td>\n",
       "    </tr>\n",
       "    <tr>\n",
       "      <th>75%</th>\n",
       "      <td>12.000000</td>\n",
       "      <td>3.750000</td>\n",
       "      <td>16791.000000</td>\n",
       "      <td>11.000000</td>\n",
       "      <td>19.800000</td>\n",
       "      <td>55.378051</td>\n",
       "      <td>-3.435973</td>\n",
       "    </tr>\n",
       "    <tr>\n",
       "      <th>max</th>\n",
       "      <td>80995.000000</td>\n",
       "      <td>8142.750000</td>\n",
       "      <td>18287.000000</td>\n",
       "      <td>12.000000</td>\n",
       "      <td>168469.600000</td>\n",
       "      <td>64.963051</td>\n",
       "      <td>138.252924</td>\n",
       "    </tr>\n",
       "  </tbody>\n",
       "</table>\n",
       "</div>"
      ],
      "text/plain": [
       "            Quantity      UnitPrice     CustomerID  InVoice_month  \\\n",
       "count  392692.000000  392692.000000  392692.000000  392692.000000   \n",
       "mean       13.119702       3.125914   15287.843865       7.601871   \n",
       "std       180.492832      22.241836    1713.539549       3.415015   \n",
       "min         1.000000       0.001000   12346.000000       1.000000   \n",
       "25%         2.000000       1.250000   13955.000000       5.000000   \n",
       "50%         6.000000       1.950000   15150.000000       8.000000   \n",
       "75%        12.000000       3.750000   16791.000000      11.000000   \n",
       "max     80995.000000    8142.750000   18287.000000      12.000000   \n",
       "\n",
       "           Total_sum       latitude      longitude  \n",
       "count  392692.000000  392692.000000  392692.000000  \n",
       "mean       22.631500      54.415770      -2.148000  \n",
       "std       311.099224       5.437055      10.073138  \n",
       "min         0.001000     -30.559482    -106.346771  \n",
       "25%         4.950000      55.378051      -3.435973  \n",
       "50%        12.450000      55.378051      -3.435973  \n",
       "75%        19.800000      55.378051      -3.435973  \n",
       "max    168469.600000      64.963051     138.252924  "
      ]
     },
     "execution_count": 16,
     "metadata": {},
     "output_type": "execute_result"
    }
   ],
   "source": [
    "# offsitting Negative values of the Total_sum Column\n",
    "df = df.loc[df['Total_sum']> 0]\n",
    "df.describe()"
   ]
  },
  {
   "cell_type": "code",
   "execution_count": 17,
   "metadata": {},
   "outputs": [],
   "source": [
    "#Changing Type of the CustomerID column to be Integer instead of Float\n",
    "df['CustomerID'] = df['CustomerID'].astype('int')"
   ]
  },
  {
   "cell_type": "code",
   "execution_count": 18,
   "metadata": {},
   "outputs": [
    {
     "name": "stdout",
     "output_type": "stream",
     "text": [
      "<class 'pandas.core.frame.DataFrame'>\n",
      "Int64Index: 392692 entries, 0 to 536639\n",
      "Data columns (total 13 columns):\n",
      " #   Column         Non-Null Count   Dtype         \n",
      "---  ------         --------------   -----         \n",
      " 0   InvoiceNo      392692 non-null  object        \n",
      " 1   StockCode      392692 non-null  category      \n",
      " 2   Description    392692 non-null  object        \n",
      " 3   Quantity       392692 non-null  int64         \n",
      " 4   InvoiceDate    392692 non-null  datetime64[ns]\n",
      " 5   UnitPrice      392692 non-null  float64       \n",
      " 6   CustomerID     392692 non-null  int32         \n",
      " 7   Country        392692 non-null  category      \n",
      " 8   Date           392692 non-null  object        \n",
      " 9   InVoice_month  392692 non-null  int64         \n",
      " 10  Total_sum      392692 non-null  float64       \n",
      " 11  latitude       392692 non-null  float64       \n",
      " 12  longitude      392692 non-null  float64       \n",
      "dtypes: category(2), datetime64[ns](1), float64(4), int32(1), int64(2), object(3)\n",
      "memory usage: 35.7+ MB\n"
     ]
    }
   ],
   "source": [
    "df['StockCode'] = df.StockCode.astype('category')\n",
    "df.info()"
   ]
  },
  {
   "cell_type": "markdown",
   "metadata": {},
   "source": [
    "<a id='eda'></a>\n",
    "## Exploratory Data Analysis\n",
    "\n",
    "### Research Question \n",
    "- which month has a Sales surge? \n",
    "- which country has the highest sales?\n",
    "- Most Frequent unique Customers' id?\n",
    "- Customer Ids with the highest purchases?"
   ]
  },
  {
   "cell_type": "markdown",
   "metadata": {},
   "source": [
    "## Univariate Exploration\n"
   ]
  },
  {
   "cell_type": "code",
   "execution_count": 19,
   "metadata": {},
   "outputs": [
    {
     "data": {
      "image/png": "[encoded data removed]",
      "text/plain": [
       "<Figure size 432x288 with 1 Axes>"
      ]
     },
     "metadata": {
      "needs_background": "light"
     },
     "output_type": "display_data"
    }
   ],
   "source": [
    "df.InVoice_month.value_counts().plot(kind = 'bar')\n",
    "plt.xlabel('Month')\n",
    "plt.ylabel('Number of purchases');"
   ]
  },
  {
   "cell_type": "markdown",
   "metadata": {},
   "source": [
    "> Months 10,11,12 have the highest number of purchases because of the holidays"
   ]
  },
  {
   "cell_type": "code",
   "execution_count": 155,
   "metadata": {},
   "outputs": [
    {
     "data": {
      "text/plain": [
       "''"
      ]
     },
     "execution_count": 155,
     "metadata": {},
     "output_type": "execute_result"
    },
    {
     "data": {
      "image/png": "[encoded data removed]",
      "text/plain": [
       "<Figure size 432x432 with 1 Axes>"
      ]
     },
     "metadata": {},
     "output_type": "display_data"
    }
   ],
   "source": [
    "#Top countries in terms of sales\n",
    "df.Country.value_counts(ascending=False)[:5].plot(kind = 'barh', figsize= (6,6))\n",
    "plt.gca().invert_yaxis();"
   ]
  },
  {
   "cell_type": "markdown",
   "metadata": {},
   "source": [
    "> Given that its a UK store, the highest purchases were from the UK then some countries in Europe"
   ]
  },
  {
   "cell_type": "code",
   "execution_count": 161,
   "metadata": {},
   "outputs": [
    {
     "data": {
      "image/png": "[encoded data removed]",
      "text/plain": [
       "<Figure size 432x288 with 1 Axes>"
      ]
     },
     "metadata": {},
     "output_type": "display_data"
    }
   ],
   "source": [
    "df.UnitPrice.value_counts().plot(kind ='hist', bins = 20);"
   ]
  },
  {
   "cell_type": "code",
   "execution_count": 35,
   "metadata": {},
   "outputs": [
    {
     "data": {
      "text/plain": [
       "1.25     45102\n",
       "1.65     36286\n",
       "2.95     26151\n",
       "0.85     25658\n",
       "0.42     21557\n",
       "         ...  \n",
       "3.45       290\n",
       "0.63       280\n",
       "1.04       262\n",
       "3.35       253\n",
       "15.00      232\n",
       "Name: UnitPrice, Length: 72, dtype: int64"
      ]
     },
     "execution_count": 35,
     "metadata": {},
     "output_type": "execute_result"
    }
   ],
   "source": [
    "df.UnitPrice.value_counts()[:15]"
   ]
  },
  {
   "cell_type": "code",
   "execution_count": 21,
   "metadata": {},
   "outputs": [
    {
     "data": {
      "image/png": "[encoded data removed]",
      "text/plain": [
       "<Figure size 432x288 with 1 Axes>"
      ]
     },
     "metadata": {
      "needs_background": "light"
     },
     "output_type": "display_data"
    }
   ],
   "source": [
    "#10 Most Frequent Customers\n",
    "df.CustomerID.value_counts(ascending=False)[:10].plot(kind = 'barh')\n",
    "plt.gca().invert_yaxis()\n",
    "plt.xlabel('Top 10 Most Frequent Customers')\n",
    "plt.ylabel('Customers Unique ID');"
   ]
  },
  {
   "cell_type": "markdown",
   "metadata": {},
   "source": [
    "## Bivariate Exploration & Multivariate Exploration\n"
   ]
  },
  {
   "cell_type": "code",
   "execution_count": 41,
   "metadata": {},
   "outputs": [
    {
     "data": {
      "image/png": "[encoded data removed]",
      "text/plain": [
       "<Figure size 864x432 with 1 Axes>"
      ]
     },
     "metadata": {},
     "output_type": "display_data"
    }
   ],
   "source": [
    "#Plotting total Sales by month\n",
    "df.groupby('Date')['Total_sum'].sum().plot(figsize = (12,6))\n",
    "plt.ylabel('Total Sales');"
   ]
  },
  {
   "cell_type": "code",
   "execution_count": 196,
   "metadata": {},
   "outputs": [
    {
     "data": {
      "image/png": "[encoded data removed]",
      "text/plain": [
       "<Figure size 432x576 with 1 Axes>"
      ]
     },
     "metadata": {},
     "output_type": "display_data"
    }
   ],
   "source": [
    "#Customer Ids with the highest purchases\n",
    "group= df.groupby('CustomerID')['Total_sum'].sum().sort_values(ascending = False)\n",
    "group[:25].plot(kind ='barh', figsize =(6,8))\n",
    "plt.gca().invert_yaxis()\n",
    "plt.xlabel('Sum of purchases');"
   ]
  },
  {
   "cell_type": "code",
   "execution_count": 202,
   "metadata": {},
   "outputs": [
    {
     "data": {
      "text/html": [
       "<div>\n",
       "<style scoped>\n",
       "    .dataframe tbody tr th:only-of-type {\n",
       "        vertical-align: middle;\n",
       "    }\n",
       "\n",
       "    .dataframe tbody tr th {\n",
       "        vertical-align: top;\n",
       "    }\n",
       "\n",
       "    .dataframe thead th {\n",
       "        text-align: right;\n",
       "    }\n",
       "</style>\n",
       "<table border=\"1\" class=\"dataframe\">\n",
       "  <thead>\n",
       "    <tr style=\"text-align: right;\">\n",
       "      <th></th>\n",
       "      <th>sum</th>\n",
       "      <th>count</th>\n",
       "    </tr>\n",
       "    <tr>\n",
       "      <th>CustomerID</th>\n",
       "      <th></th>\n",
       "      <th></th>\n",
       "    </tr>\n",
       "  </thead>\n",
       "  <tbody>\n",
       "    <tr>\n",
       "      <th>14646</th>\n",
       "      <td>280206.02</td>\n",
       "      <td>2076</td>\n",
       "    </tr>\n",
       "    <tr>\n",
       "      <th>18102</th>\n",
       "      <td>259657.30</td>\n",
       "      <td>431</td>\n",
       "    </tr>\n",
       "    <tr>\n",
       "      <th>17450</th>\n",
       "      <td>194390.79</td>\n",
       "      <td>336</td>\n",
       "    </tr>\n",
       "    <tr>\n",
       "      <th>16446</th>\n",
       "      <td>168472.50</td>\n",
       "      <td>3</td>\n",
       "    </tr>\n",
       "    <tr>\n",
       "      <th>14911</th>\n",
       "      <td>143711.17</td>\n",
       "      <td>5670</td>\n",
       "    </tr>\n",
       "    <tr>\n",
       "      <th>...</th>\n",
       "      <td>...</td>\n",
       "      <td>...</td>\n",
       "    </tr>\n",
       "    <tr>\n",
       "      <th>16878</th>\n",
       "      <td>13.30</td>\n",
       "      <td>3</td>\n",
       "    </tr>\n",
       "    <tr>\n",
       "      <th>17956</th>\n",
       "      <td>12.75</td>\n",
       "      <td>1</td>\n",
       "    </tr>\n",
       "    <tr>\n",
       "      <th>16454</th>\n",
       "      <td>6.90</td>\n",
       "      <td>2</td>\n",
       "    </tr>\n",
       "    <tr>\n",
       "      <th>14792</th>\n",
       "      <td>6.20</td>\n",
       "      <td>2</td>\n",
       "    </tr>\n",
       "    <tr>\n",
       "      <th>16738</th>\n",
       "      <td>3.75</td>\n",
       "      <td>1</td>\n",
       "    </tr>\n",
       "  </tbody>\n",
       "</table>\n",
       "<p>4338 rows × 2 columns</p>\n",
       "</div>"
      ],
      "text/plain": [
       "                  sum  count\n",
       "CustomerID                  \n",
       "14646       280206.02   2076\n",
       "18102       259657.30    431\n",
       "17450       194390.79    336\n",
       "16446       168472.50      3\n",
       "14911       143711.17   5670\n",
       "...               ...    ...\n",
       "16878           13.30      3\n",
       "17956           12.75      1\n",
       "16454            6.90      2\n",
       "14792            6.20      2\n",
       "16738            3.75      1\n",
       "\n",
       "[4338 rows x 2 columns]"
      ]
     },
     "execution_count": 202,
     "metadata": {},
     "output_type": "execute_result"
    }
   ],
   "source": [
    "#checking the count of transactions for the highest paying customers\n",
    "df.groupby('CustomerID')['Total_sum'].agg(['sum','count']).sort_values(by='sum',ascending = False)"
   ]
  },
  {
   "cell_type": "markdown",
   "metadata": {},
   "source": [
    "## RFM (Recency, Frequency, and Monetary) customer segmentation:\n",
    "\n",
    "1.\tExtract most recent 1-year transactions data.\n",
    "2.\tCalculate the Recency of each customer by their latest transaction date.\n",
    "3.\tCalculate the Frequency of each customer by summing the number of invoices tagged to each customer.\n",
    "4.\tCalculate the Monetary Value of each customer by summing up their respective total spend."
   ]
  },
  {
   "cell_type": "code",
   "execution_count": 22,
   "metadata": {},
   "outputs": [],
   "source": [
    "import datetime as dt\n",
    "#Calculat year date range from latest data\n",
    "\n",
    "end_date = df['Date'].max()\n",
    "\n",
    "\n",
    "# Filter 1-year data range from original df\n",
    "start_date = end_date -pd.to_timedelta(364, unit='d')\n",
    "df_rfm = df[(df['Date'] >= start_date) & (df['Date'] <= end_date)]\n",
    "\n",
    "\n",
    "# Create hypothetical snapshot date\n",
    "snapshot_date = end_date + dt.timedelta(days=1)\n",
    "\n",
    "\n",
    "# Calculate Recency, Frequency and Monetary value for each customer\n",
    "df_rfm = df_rfm.groupby(['CustomerID']).agg({\n",
    "    'Date': lambda x: (snapshot_date - x.max()).days,\n",
    "    'InvoiceNo': 'count',\n",
    "    'Total_sum': 'sum'})\n",
    "\n",
    "\n",
    "# Rename the columns\n",
    "df_rfm.rename(columns={'Date': 'Recency',\n",
    "                       'InvoiceNo': 'Frequency',\n",
    "                       'Total_sum': 'MonetaryValue'}, inplace=True)\n"
   ]
  },
  {
   "cell_type": "code",
   "execution_count": 23,
   "metadata": {},
   "outputs": [
    {
     "data": {
      "text/html": [
       "<div>\n",
       "<style scoped>\n",
       "    .dataframe tbody tr th:only-of-type {\n",
       "        vertical-align: middle;\n",
       "    }\n",
       "\n",
       "    .dataframe tbody tr th {\n",
       "        vertical-align: top;\n",
       "    }\n",
       "\n",
       "    .dataframe thead th {\n",
       "        text-align: right;\n",
       "    }\n",
       "</style>\n",
       "<table border=\"1\" class=\"dataframe\">\n",
       "  <thead>\n",
       "    <tr style=\"text-align: right;\">\n",
       "      <th></th>\n",
       "      <th>Recency</th>\n",
       "      <th>Frequency</th>\n",
       "      <th>MonetaryValue</th>\n",
       "    </tr>\n",
       "    <tr>\n",
       "      <th>CustomerID</th>\n",
       "      <th></th>\n",
       "      <th></th>\n",
       "      <th></th>\n",
       "    </tr>\n",
       "  </thead>\n",
       "  <tbody>\n",
       "    <tr>\n",
       "      <th>12346</th>\n",
       "      <td>326</td>\n",
       "      <td>1</td>\n",
       "      <td>77183.60</td>\n",
       "    </tr>\n",
       "    <tr>\n",
       "      <th>12347</th>\n",
       "      <td>3</td>\n",
       "      <td>151</td>\n",
       "      <td>3598.21</td>\n",
       "    </tr>\n",
       "    <tr>\n",
       "      <th>12348</th>\n",
       "      <td>76</td>\n",
       "      <td>31</td>\n",
       "      <td>1797.24</td>\n",
       "    </tr>\n",
       "    <tr>\n",
       "      <th>12349</th>\n",
       "      <td>19</td>\n",
       "      <td>73</td>\n",
       "      <td>1757.55</td>\n",
       "    </tr>\n",
       "    <tr>\n",
       "      <th>12350</th>\n",
       "      <td>311</td>\n",
       "      <td>17</td>\n",
       "      <td>334.40</td>\n",
       "    </tr>\n",
       "  </tbody>\n",
       "</table>\n",
       "</div>"
      ],
      "text/plain": [
       "            Recency  Frequency  MonetaryValue\n",
       "CustomerID                                   \n",
       "12346           326          1       77183.60\n",
       "12347             3        151        3598.21\n",
       "12348            76         31        1797.24\n",
       "12349            19         73        1757.55\n",
       "12350           311         17         334.40"
      ]
     },
     "execution_count": 23,
     "metadata": {},
     "output_type": "execute_result"
    }
   ],
   "source": [
    "df_rfm.head()"
   ]
  },
  {
   "cell_type": "code",
   "execution_count": 24,
   "metadata": {},
   "outputs": [],
   "source": [
    "#reducing Skewness of variables\n",
    "from scipy import stats\n",
    "def check_skew(df, column):\n",
    "    skew = stats.skew(df[column])\n",
    "    skewtest = stats.skewtest(df[column])\n",
    "    plt.title('Distribution of ' + column)\n",
    "    sb.distplot(df[column])\n",
    "    print(\"{}'s: Skew: {}, : {}\".format(column, skew, skewtest))\n",
    "    return"
   ]
  },
  {
   "cell_type": "code",
   "execution_count": 25,
   "metadata": {},
   "outputs": [
    {
     "name": "stdout",
     "output_type": "stream",
     "text": [
      "Recency's: Skew: 1.2366484066332477, : SkewtestResult(statistic=26.248158792893136, pvalue=7.502082939907587e-152)\n",
      "Frequency's: Skew: 18.017332957746806, : SkewtestResult(statistic=82.74998788801516, pvalue=0.0)\n",
      "MonetaryValue's: Skew: 19.0683093639848, : SkewtestResult(statistic=83.98821712435034, pvalue=0.0)\n"
     ]
    },
    {
     "data": {
      "image/png": "[encoded data removed]",
      "text/plain": [
       "<Figure size 648x648 with 3 Axes>"
      ]
     },
     "metadata": {
      "needs_background": "light"
     },
     "output_type": "display_data"
    }
   ],
   "source": [
    "# Plot all 3 graphs together for summary findings\n",
    "plt.figure(figsize=(9, 9))\n",
    "\n",
    "plt.subplot(3, 1, 1)\n",
    "check_skew(df_rfm,'Recency')\n",
    "\n",
    "plt.subplot(3, 1, 2)\n",
    "check_skew(df_rfm,'Frequency')\n",
    "\n",
    "plt.subplot(3, 1, 3)\n",
    "check_skew(df_rfm,'MonetaryValue')\n",
    "\n",
    "plt.tight_layout();"
   ]
  },
  {
   "cell_type": "code",
   "execution_count": 214,
   "metadata": {},
   "outputs": [
    {
     "data": {
      "text/html": [
       "<div>\n",
       "<style scoped>\n",
       "    .dataframe tbody tr th:only-of-type {\n",
       "        vertical-align: middle;\n",
       "    }\n",
       "\n",
       "    .dataframe tbody tr th {\n",
       "        vertical-align: top;\n",
       "    }\n",
       "\n",
       "    .dataframe thead th {\n",
       "        text-align: right;\n",
       "    }\n",
       "</style>\n",
       "<table border=\"1\" class=\"dataframe\">\n",
       "  <thead>\n",
       "    <tr style=\"text-align: right;\">\n",
       "      <th></th>\n",
       "      <th>Recency</th>\n",
       "      <th>Frequency</th>\n",
       "      <th>MonetaryValue</th>\n",
       "    </tr>\n",
       "  </thead>\n",
       "  <tbody>\n",
       "    <tr>\n",
       "      <th>count</th>\n",
       "      <td>4264.000000</td>\n",
       "      <td>4264.000000</td>\n",
       "      <td>4264.000000</td>\n",
       "    </tr>\n",
       "    <tr>\n",
       "      <th>mean</th>\n",
       "      <td>88.241792</td>\n",
       "      <td>88.768293</td>\n",
       "      <td>2011.386614</td>\n",
       "    </tr>\n",
       "    <tr>\n",
       "      <th>std</th>\n",
       "      <td>93.888162</td>\n",
       "      <td>220.815601</td>\n",
       "      <td>8780.849894</td>\n",
       "    </tr>\n",
       "    <tr>\n",
       "      <th>min</th>\n",
       "      <td>1.000000</td>\n",
       "      <td>1.000000</td>\n",
       "      <td>3.750000</td>\n",
       "    </tr>\n",
       "    <tr>\n",
       "      <th>25%</th>\n",
       "      <td>18.000000</td>\n",
       "      <td>17.000000</td>\n",
       "      <td>303.045000</td>\n",
       "    </tr>\n",
       "    <tr>\n",
       "      <th>50%</th>\n",
       "      <td>50.000000</td>\n",
       "      <td>40.000000</td>\n",
       "      <td>660.660000</td>\n",
       "    </tr>\n",
       "    <tr>\n",
       "      <th>75%</th>\n",
       "      <td>134.000000</td>\n",
       "      <td>97.000000</td>\n",
       "      <td>1636.362500</td>\n",
       "    </tr>\n",
       "    <tr>\n",
       "      <th>max</th>\n",
       "      <td>365.000000</td>\n",
       "      <td>7491.000000</td>\n",
       "      <td>280206.020000</td>\n",
       "    </tr>\n",
       "  </tbody>\n",
       "</table>\n",
       "</div>"
      ],
      "text/plain": [
       "           Recency    Frequency  MonetaryValue\n",
       "count  4264.000000  4264.000000    4264.000000\n",
       "mean     88.241792    88.768293    2011.386614\n",
       "std      93.888162   220.815601    8780.849894\n",
       "min       1.000000     1.000000       3.750000\n",
       "25%      18.000000    17.000000     303.045000\n",
       "50%      50.000000    40.000000     660.660000\n",
       "75%     134.000000    97.000000    1636.362500\n",
       "max     365.000000  7491.000000  280206.020000"
      ]
     },
     "execution_count": 214,
     "metadata": {},
     "output_type": "execute_result"
    }
   ],
   "source": [
    "df_rfm.describe()"
   ]
  },
  {
   "cell_type": "code",
   "execution_count": 26,
   "metadata": {},
   "outputs": [
    {
     "name": "stdout",
     "output_type": "stream",
     "text": [
      "Recency's: Skew: -0.4764003819497673, : SkewtestResult(statistic=-12.09566850894663, pvalue=1.1133227060340995e-33)\n",
      "Frequency's: Skew: -0.21887665697673916, : SkewtestResult(statistic=-5.777617999209057, pvalue=7.576558411968531e-09)\n",
      "MonetaryValue's: Skew: 0.38462622541127395, : SkewtestResult(statistic=9.926808098046033, pvalue=3.182810809046833e-23)\n"
     ]
    },
    {
     "data": {
      "image/png": "[encoded data removed]",
      "text/plain": [
       "<Figure size 648x648 with 3 Axes>"
      ]
     },
     "metadata": {
      "needs_background": "light"
     },
     "output_type": "display_data"
    }
   ],
   "source": [
    "# Transform skewed data with log tranasformation\n",
    "df_rfm_log = np.log(df_rfm)\n",
    "\n",
    "# Check for skewness after log transformation\n",
    "plt.figure(figsize=(9, 9))\n",
    "\n",
    "plt.subplot(3, 1, 1)\n",
    "check_skew(df_rfm_log,'Recency')\n",
    "\n",
    "plt.subplot(3, 1, 2)\n",
    "check_skew(df_rfm_log,'Frequency')\n",
    "\n",
    "plt.subplot(3, 1, 3)\n",
    "check_skew(df_rfm_log,'MonetaryValue')\n",
    "\n",
    "plt.tight_layout()"
   ]
  },
  {
   "cell_type": "markdown",
   "metadata": {},
   "source": [
    "<a id=\"ml\"></a>\n",
    "\n",
    "## Clustering"
   ]
  },
  {
   "cell_type": "code",
   "execution_count": 27,
   "metadata": {},
   "outputs": [],
   "source": [
    "from sklearn.preprocessing import StandardScaler\n",
    "from sklearn.cluster import KMeans\n",
    "from sklearn.metrics import silhouette_score\n",
    "from sklearn.manifold import TSNE"
   ]
  },
  {
   "cell_type": "code",
   "execution_count": 28,
   "metadata": {},
   "outputs": [
    {
     "data": {
      "text/html": [
       "<div>\n",
       "<style scoped>\n",
       "    .dataframe tbody tr th:only-of-type {\n",
       "        vertical-align: middle;\n",
       "    }\n",
       "\n",
       "    .dataframe tbody tr th {\n",
       "        vertical-align: top;\n",
       "    }\n",
       "\n",
       "    .dataframe thead th {\n",
       "        text-align: right;\n",
       "    }\n",
       "</style>\n",
       "<table border=\"1\" class=\"dataframe\">\n",
       "  <thead>\n",
       "    <tr style=\"text-align: right;\">\n",
       "      <th></th>\n",
       "      <th>Recency</th>\n",
       "      <th>Frequency</th>\n",
       "      <th>MonetaryValue</th>\n",
       "    </tr>\n",
       "  </thead>\n",
       "  <tbody>\n",
       "    <tr>\n",
       "      <th>count</th>\n",
       "      <td>4264.000</td>\n",
       "      <td>4264.000</td>\n",
       "      <td>4264.000</td>\n",
       "    </tr>\n",
       "    <tr>\n",
       "      <th>mean</th>\n",
       "      <td>0.000</td>\n",
       "      <td>0.000</td>\n",
       "      <td>-0.000</td>\n",
       "    </tr>\n",
       "    <tr>\n",
       "      <th>std</th>\n",
       "      <td>1.000</td>\n",
       "      <td>1.000</td>\n",
       "      <td>1.000</td>\n",
       "    </tr>\n",
       "    <tr>\n",
       "      <th>min</th>\n",
       "      <td>-2.754</td>\n",
       "      <td>-2.792</td>\n",
       "      <td>-4.179</td>\n",
       "    </tr>\n",
       "    <tr>\n",
       "      <th>25%</th>\n",
       "      <td>-0.639</td>\n",
       "      <td>-0.631</td>\n",
       "      <td>-0.684</td>\n",
       "    </tr>\n",
       "    <tr>\n",
       "      <th>50%</th>\n",
       "      <td>0.108</td>\n",
       "      <td>0.021</td>\n",
       "      <td>-0.064</td>\n",
       "    </tr>\n",
       "    <tr>\n",
       "      <th>75%</th>\n",
       "      <td>0.829</td>\n",
       "      <td>0.697</td>\n",
       "      <td>0.658</td>\n",
       "    </tr>\n",
       "    <tr>\n",
       "      <th>max</th>\n",
       "      <td>1.562</td>\n",
       "      <td>4.012</td>\n",
       "      <td>4.749</td>\n",
       "    </tr>\n",
       "  </tbody>\n",
       "</table>\n",
       "</div>"
      ],
      "text/plain": [
       "        Recency  Frequency  MonetaryValue\n",
       "count  4264.000   4264.000       4264.000\n",
       "mean      0.000      0.000         -0.000\n",
       "std       1.000      1.000          1.000\n",
       "min      -2.754     -2.792         -4.179\n",
       "25%      -0.639     -0.631         -0.684\n",
       "50%       0.108      0.021         -0.064\n",
       "75%       0.829      0.697          0.658\n",
       "max       1.562      4.012          4.749"
      ]
     },
     "execution_count": 28,
     "metadata": {},
     "output_type": "execute_result"
    }
   ],
   "source": [
    "# Scaling data\n",
    "scaler = StandardScaler()\n",
    "scaler.fit(df_rfm_log)\n",
    "df_rfm_normal = scaler.transform(df_rfm_log)\n",
    "\n",
    "df_rfm_normal = pd.DataFrame(df_rfm_normal, index=df_rfm_log.index, columns=df_rfm_log.columns)\n",
    "\n",
    "# Check result after standardising\n",
    "df_rfm_normal.describe().round(3)"
   ]
  },
  {
   "cell_type": "code",
   "execution_count": 29,
   "metadata": {},
   "outputs": [],
   "source": [
    "#finding the Optimal no of clusters\n",
    "def optimal_kmeans(dataset, start=2, end=11):\n",
    "    '''\n",
    "    Calculate the optimal number of kmeans\n",
    "    \n",
    "    INPUT:\n",
    "        dataset : dataframe. Dataset for k-means to fit\n",
    "        start : int. Starting range of kmeans to test\n",
    "        end : int. Ending range of kmeans to test\n",
    "    OUTPUT:\n",
    "        Values of Inertia and Silhouette Score.\n",
    "        Lineplot of values of Inertia and Silhouette Score.\n",
    "    '''\n",
    "    \n",
    "    # Create empty lists to store values for plotting graphs\n",
    "    n_clu = []\n",
    "    km_ss = []\n",
    "    inertia = []\n",
    "\n",
    "    # Create a for loop to find optimal n_clusters\n",
    "    for n_clusters in range(start, end):\n",
    "\n",
    "        # Create cluster labels\n",
    "        kmeans = KMeans(n_clusters=n_clusters)\n",
    "        labels = kmeans.fit_predict(dataset)\n",
    "\n",
    "        # Calcualte model performance\n",
    "        silhouette_avg = round(silhouette_score(dataset, labels, random_state=1), 3)\n",
    "        inertia_score = round(kmeans.inertia_, 2)\n",
    "\n",
    "        # Append score to lists\n",
    "        km_ss.append(silhouette_avg)\n",
    "        n_clu.append(n_clusters)\n",
    "        inertia.append(inertia_score)\n",
    "\n",
    "        print(\"No. Clusters: {}, Silhouette Score(SS): {}, SS Delta: {}, Inertia: {}, Inertia Delta: {}\".format(\n",
    "            n_clusters, \n",
    "            silhouette_avg, \n",
    "            (km_ss[n_clusters - start] - km_ss[n_clusters - start - 1]), \n",
    "            inertia_score, \n",
    "            (inertia[n_clusters - start] - inertia[n_clusters - start - 1])))\n",
    "\n",
    "        # Plot graph at the end of loop\n",
    "        if n_clusters == end - 1:\n",
    "            plt.figure(figsize=(9,6))\n",
    "\n",
    "            plt.subplot(2, 1, 1)\n",
    "            plt.title('Within-Cluster Sum-of-Squares / Inertia')\n",
    "            sb.pointplot(x=n_clu, y=inertia)\n",
    "\n",
    "            plt.subplot(2, 1, 2)\n",
    "            plt.title('Silhouette Score')\n",
    "            sb.pointplot(x=n_clu, y=km_ss)\n",
    "            plt.tight_layout()\n",
    "            plt.show()"
   ]
  },
  {
   "cell_type": "code",
   "execution_count": 223,
   "metadata": {},
   "outputs": [
    {
     "name": "stdout",
     "output_type": "stream",
     "text": [
      "No. Clusters: 2, Silhouette Score(SS): 0.394, SS Delta: 0.0, Inertia: 6777.51, Inertia Delta: 0.0\n",
      "No. Clusters: 3, Silhouette Score(SS): 0.298, SS Delta: -0.09600000000000003, Inertia: 5257.9, Inertia Delta: -1519.6100000000006\n",
      "No. Clusters: 4, Silhouette Score(SS): 0.304, SS Delta: 0.006000000000000005, Inertia: 4355.86, Inertia Delta: -902.04\n",
      "No. Clusters: 5, Silhouette Score(SS): 0.279, SS Delta: -0.024999999999999967, Inertia: 3697.2, Inertia Delta: -658.6599999999999\n",
      "No. Clusters: 6, Silhouette Score(SS): 0.274, SS Delta: -0.0050000000000000044, Inertia: 3302.49, Inertia Delta: -394.71000000000004\n",
      "No. Clusters: 7, Silhouette Score(SS): 0.265, SS Delta: -0.009000000000000008, Inertia: 2990.13, Inertia Delta: -312.3599999999997\n",
      "No. Clusters: 8, Silhouette Score(SS): 0.259, SS Delta: -0.006000000000000005, Inertia: 2755.11, Inertia Delta: -235.01999999999998\n",
      "No. Clusters: 9, Silhouette Score(SS): 0.258, SS Delta: -0.0010000000000000009, Inertia: 2577.32, Inertia Delta: -177.78999999999996\n",
      "No. Clusters: 10, Silhouette Score(SS): 0.258, SS Delta: 0.0, Inertia: 2418.26, Inertia Delta: -159.05999999999995\n"
     ]
    },
    {
     "data": {
      "image/png": "[encoded data removed]",
      "text/plain": [
       "<Figure size 648x432 with 2 Axes>"
      ]
     },
     "metadata": {},
     "output_type": "display_data"
    }
   ],
   "source": [
    "optimal_kmeans(df_rfm_normal)"
   ]
  },
  {
   "cell_type": "markdown",
   "metadata": {},
   "source": [
    "> Based on the inertia and silhouette score, the optimal number of cluster is 3. "
   ]
  },
  {
   "cell_type": "code",
   "execution_count": 32,
   "metadata": {},
   "outputs": [],
   "source": [
    "#Implementin K-means clustering\n",
    "def kmeans(normalised_df_rfm, clusters_number, original_df_rfm):\n",
    "    '''\n",
    "    Implement k-means clustering on dataset\n",
    "    \n",
    "    INPUT:\n",
    "        normalised_df_rfm : dataframe. Normalised rfm dataset for k-means to fit.\n",
    "        clusters_number : int. Number of clusters to form.\n",
    "        original_df_rfm : dataframe. Original rfm dataset to assign the labels to.\n",
    "    OUTPUT:\n",
    "        Cluster results and t-SNE visualisation of clusters.\n",
    "    '''\n",
    "    \n",
    "    kmeans = KMeans(n_clusters = clusters_number, random_state = 1)\n",
    "    kmeans.fit(normalised_df_rfm)\n",
    "\n",
    "    # Extract cluster labels\n",
    "    cluster_labels = kmeans.labels_\n",
    "        \n",
    "    # Create a cluster label column in original dataset\n",
    "    df_new = original_df_rfm.assign(Cluster = cluster_labels)\n",
    "    # Initialise TSNE\n",
    "    model = TSNE(random_state=1)\n",
    "    transformed = model.fit_transform(df_new)\n",
    "    \n",
    "    # Plot t-SNE\n",
    "    plt.title('Flattened Graph of {} Clusters'.format(clusters_number))\n",
    "    sb.scatterplot(x=transformed[:,0], y=transformed[:,1], hue=cluster_labels, style=cluster_labels, palette=\"Set1\")\n",
    "    \n",
    "    return df_new\n"
   ]
  },
  {
   "cell_type": "code",
   "execution_count": 34,
   "metadata": {},
   "outputs": [
    {
     "data": {
      "image/png": "[encoded data removed]",
      "text/plain": [
       "<Figure size 648x432 with 1 Axes>"
      ]
     },
     "metadata": {
      "needs_background": "light"
     },
     "output_type": "display_data"
    }
   ],
   "source": [
    "plt.figure(figsize=(9, 6))\n",
    "\n",
    "df_rfm_k3 = kmeans(df_rfm_normal, 3, df_rfm)\n",
    "plt.tight_layout()"
   ]
  },
  {
   "cell_type": "code",
   "execution_count": 227,
   "metadata": {},
   "outputs": [
    {
     "data": {
      "text/html": [
       "<div>\n",
       "<style scoped>\n",
       "    .dataframe tbody tr th:only-of-type {\n",
       "        vertical-align: middle;\n",
       "    }\n",
       "\n",
       "    .dataframe tbody tr th {\n",
       "        vertical-align: top;\n",
       "    }\n",
       "\n",
       "    .dataframe thead th {\n",
       "        text-align: right;\n",
       "    }\n",
       "</style>\n",
       "<table border=\"1\" class=\"dataframe\">\n",
       "  <thead>\n",
       "    <tr style=\"text-align: right;\">\n",
       "      <th></th>\n",
       "      <th>Recency</th>\n",
       "      <th>Frequency</th>\n",
       "      <th>MonetaryValue</th>\n",
       "      <th>Cluster</th>\n",
       "    </tr>\n",
       "    <tr>\n",
       "      <th>CustomerID</th>\n",
       "      <th></th>\n",
       "      <th></th>\n",
       "      <th></th>\n",
       "      <th></th>\n",
       "    </tr>\n",
       "  </thead>\n",
       "  <tbody>\n",
       "    <tr>\n",
       "      <th>12346</th>\n",
       "      <td>326</td>\n",
       "      <td>1</td>\n",
       "      <td>77183.60</td>\n",
       "      <td>2</td>\n",
       "    </tr>\n",
       "    <tr>\n",
       "      <th>12347</th>\n",
       "      <td>3</td>\n",
       "      <td>151</td>\n",
       "      <td>3598.21</td>\n",
       "      <td>0</td>\n",
       "    </tr>\n",
       "    <tr>\n",
       "      <th>12348</th>\n",
       "      <td>76</td>\n",
       "      <td>31</td>\n",
       "      <td>1797.24</td>\n",
       "      <td>2</td>\n",
       "    </tr>\n",
       "    <tr>\n",
       "      <th>12349</th>\n",
       "      <td>19</td>\n",
       "      <td>73</td>\n",
       "      <td>1757.55</td>\n",
       "      <td>2</td>\n",
       "    </tr>\n",
       "    <tr>\n",
       "      <th>12350</th>\n",
       "      <td>311</td>\n",
       "      <td>17</td>\n",
       "      <td>334.40</td>\n",
       "      <td>1</td>\n",
       "    </tr>\n",
       "    <tr>\n",
       "      <th>...</th>\n",
       "      <td>...</td>\n",
       "      <td>...</td>\n",
       "      <td>...</td>\n",
       "      <td>...</td>\n",
       "    </tr>\n",
       "    <tr>\n",
       "      <th>18280</th>\n",
       "      <td>278</td>\n",
       "      <td>10</td>\n",
       "      <td>180.60</td>\n",
       "      <td>1</td>\n",
       "    </tr>\n",
       "    <tr>\n",
       "      <th>18281</th>\n",
       "      <td>181</td>\n",
       "      <td>7</td>\n",
       "      <td>80.82</td>\n",
       "      <td>1</td>\n",
       "    </tr>\n",
       "    <tr>\n",
       "      <th>18282</th>\n",
       "      <td>8</td>\n",
       "      <td>12</td>\n",
       "      <td>178.05</td>\n",
       "      <td>1</td>\n",
       "    </tr>\n",
       "    <tr>\n",
       "      <th>18283</th>\n",
       "      <td>4</td>\n",
       "      <td>721</td>\n",
       "      <td>2045.53</td>\n",
       "      <td>0</td>\n",
       "    </tr>\n",
       "    <tr>\n",
       "      <th>18287</th>\n",
       "      <td>43</td>\n",
       "      <td>70</td>\n",
       "      <td>1837.28</td>\n",
       "      <td>2</td>\n",
       "    </tr>\n",
       "  </tbody>\n",
       "</table>\n",
       "<p>4264 rows × 4 columns</p>\n",
       "</div>"
      ],
      "text/plain": [
       "            Recency  Frequency  MonetaryValue  Cluster\n",
       "CustomerID                                            \n",
       "12346           326          1       77183.60        2\n",
       "12347             3        151        3598.21        0\n",
       "12348            76         31        1797.24        2\n",
       "12349            19         73        1757.55        2\n",
       "12350           311         17         334.40        1\n",
       "...             ...        ...            ...      ...\n",
       "18280           278         10         180.60        1\n",
       "18281           181          7          80.82        1\n",
       "18282             8         12         178.05        1\n",
       "18283             4        721        2045.53        0\n",
       "18287            43         70        1837.28        2\n",
       "\n",
       "[4264 rows x 4 columns]"
      ]
     },
     "execution_count": 227,
     "metadata": {},
     "output_type": "execute_result"
    }
   ],
   "source": [
    "df_rfm_k3"
   ]
  },
  {
   "cell_type": "code",
   "execution_count": 228,
   "metadata": {},
   "outputs": [],
   "source": [
    "def rfm_values(df):\n",
    "    '''\n",
    "    Calcualte average RFM values and size for each cluster\n",
    "\n",
    "    '''\n",
    "    df_new = df.groupby(['Cluster']).agg({\n",
    "        'Recency': 'mean',\n",
    "        'Frequency': 'mean',\n",
    "        'MonetaryValue': ['mean', 'count']\n",
    "    }).round(0)\n",
    "    \n",
    "    return df_new"
   ]
  },
  {
   "cell_type": "code",
   "execution_count": 229,
   "metadata": {},
   "outputs": [
    {
     "data": {
      "text/html": [
       "<div>\n",
       "<style scoped>\n",
       "    .dataframe tbody tr th:only-of-type {\n",
       "        vertical-align: middle;\n",
       "    }\n",
       "\n",
       "    .dataframe tbody tr th {\n",
       "        vertical-align: top;\n",
       "    }\n",
       "\n",
       "    .dataframe thead tr th {\n",
       "        text-align: left;\n",
       "    }\n",
       "\n",
       "    .dataframe thead tr:last-of-type th {\n",
       "        text-align: right;\n",
       "    }\n",
       "</style>\n",
       "<table border=\"1\" class=\"dataframe\">\n",
       "  <thead>\n",
       "    <tr>\n",
       "      <th></th>\n",
       "      <th>Recency</th>\n",
       "      <th>Frequency</th>\n",
       "      <th colspan=\"2\" halign=\"left\">MonetaryValue</th>\n",
       "    </tr>\n",
       "    <tr>\n",
       "      <th></th>\n",
       "      <th>mean</th>\n",
       "      <th>mean</th>\n",
       "      <th>mean</th>\n",
       "      <th>count</th>\n",
       "    </tr>\n",
       "    <tr>\n",
       "      <th>Cluster</th>\n",
       "      <th></th>\n",
       "      <th></th>\n",
       "      <th></th>\n",
       "      <th></th>\n",
       "    </tr>\n",
       "  </thead>\n",
       "  <tbody>\n",
       "    <tr>\n",
       "      <th>0</th>\n",
       "      <td>14.0</td>\n",
       "      <td>247.0</td>\n",
       "      <td>6194.0</td>\n",
       "      <td>984</td>\n",
       "    </tr>\n",
       "    <tr>\n",
       "      <th>1</th>\n",
       "      <td>162.0</td>\n",
       "      <td>15.0</td>\n",
       "      <td>287.0</td>\n",
       "      <td>1483</td>\n",
       "    </tr>\n",
       "    <tr>\n",
       "      <th>2</th>\n",
       "      <td>68.0</td>\n",
       "      <td>63.0</td>\n",
       "      <td>1144.0</td>\n",
       "      <td>1797</td>\n",
       "    </tr>\n",
       "  </tbody>\n",
       "</table>\n",
       "</div>"
      ],
      "text/plain": [
       "        Recency Frequency MonetaryValue      \n",
       "           mean      mean          mean count\n",
       "Cluster                                      \n",
       "0          14.0     247.0        6194.0   984\n",
       "1         162.0      15.0         287.0  1483\n",
       "2          68.0      63.0        1144.0  1797"
      ]
     },
     "execution_count": 229,
     "metadata": {},
     "output_type": "execute_result"
    }
   ],
   "source": [
    "#Summary Stats for KMeans of 3\n",
    "rfm_values(df_rfm_k3)"
   ]
  },
  {
   "cell_type": "markdown",
   "metadata": {},
   "source": [
    "<a id='conclusions'></a>\n",
    "## Conclusions\n",
    "\n"
   ]
  },
  {
   "cell_type": "markdown",
   "metadata": {},
   "source": [
    "> Customer segmentation is one of the most important tasks in any business, gaining insights into your customers' purchasing behavior and/or understanding reasons for churn, customer retention, seamless customer experience and bottlenecks to customers' base growth is crucial for all areas concerning that business.\n",
    "\n",
    "> For business purposes RFM Analysis, “recency, frequency, monetary,” represents some of the most important attributes of a customer from a company’s point of view, to conduct the clustering analysis, collecting the relevant data on each customer and sort customers into groups based on similar values for each of the RFM variables.\n",
    "\n",
    "> In that Notebook I've represented a public dataset analysis for Customer Segmentation Using K-means and RFM approach, results of the analysis are:\n",
    " - The Best clusters using K-means unsupervised machine learning model and Silhouette metric were found to be 3\n",
    " - Cluster No 1 has an average spending of > 6000, frequency of purchase about > 240 times and recency of 14 days\n",
    " \n",
    "> Important Note:\n",
    " - Code references and inspirations from [Tern Poh Lim's](https://towardsdatascience.com/the-most-important-data-science-tool-for-market-and-customer-segmentation-c9709ca0b64a) Article in Towards Data Science "
   ]
  },
  {
   "cell_type": "markdown",
   "metadata": {},
   "source": []
  }
 ],
 "metadata": {
  "kernelspec": {
   "display_name": "Python 3",
   "language": "python",
   "name": "python3"
  },
  "language_info": {
   "codemirror_mode": {
    "name": "ipython",
    "version": 3
   },
   "file_extension": ".py",
   "mimetype": "text/x-python",
   "name": "python",
   "nbconvert_exporter": "python",
   "pygments_lexer": "ipython3",
   "version": "3.8.5"
  },
  "toc": {
   "base_numbering": 1,
   "nav_menu": {},
   "number_sections": true,
   "sideBar": true,
   "skip_h1_title": false,
   "title_cell": "Table of Contents",
   "title_sidebar": "Contents",
   "toc_cell": false,
   "toc_position": {},
   "toc_section_display": true,
   "toc_window_display": false
  }
 },
 "nbformat": 4,
 "nbformat_minor": 2
}
